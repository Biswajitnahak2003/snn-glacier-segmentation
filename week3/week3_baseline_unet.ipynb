{
  "nbformat": 4,
  "nbformat_minor": 0,
  "metadata": {
    "colab": {
      "provenance": [],
      "gpuType": "T4",
      "authorship_tag": "ABX9TyN6DtiwCXiO67AY+ROoMSzf",
      "include_colab_link": true
    },
    "kernelspec": {
      "name": "python3",
      "display_name": "Python 3"
    },
    "language_info": {
      "name": "python"
    },
    "accelerator": "GPU"
  },
  "cells": [
    {
      "cell_type": "markdown",
      "metadata": {
        "id": "view-in-github",
        "colab_type": "text"
      },
      "source": [
        "<a href=\"https://colab.research.google.com/github/Biswajitnahak2003/snn-glacier-segmentation/blob/main/week3/week3_baseline_unet.ipynb\" target=\"_parent\"><img src=\"https://colab.research.google.com/assets/colab-badge.svg\" alt=\"Open In Colab\"/></a>"
      ]
    },
    {
      "cell_type": "code",
      "source": [
        "# --- =================================================================== ---\n",
        "# --- Week 3: U-Net Model Architecture Definition                         ---\n",
        "# --- =================================================================== ---\n",
        "\n",
        "# --- Step 1: Imports ---\n",
        "import torch\n",
        "import torch.nn as nn\n",
        "\n",
        "# --- Step 2: A Proper, Full U-Net Architecture ---\n",
        "class UNet(nn.Module):\n",
        "    def __init__(self, in_channels=5, out_channels=1):\n",
        "        \"\"\"\n",
        "        Initializes all the layers of the U-Net.\n",
        "        \"\"\"\n",
        "        super().__init__()\n",
        "\n",
        "        def conv_block(in_c, out_c):\n",
        "            return nn.Sequential(\n",
        "                nn.Conv2d(in_c, out_c, kernel_size=3, padding=1, bias=False),\n",
        "                nn.BatchNorm2d(out_c),\n",
        "                nn.ReLU(),\n",
        "                nn.Conv2d(out_c, out_c, kernel_size=3, padding=1, bias=False),\n",
        "                nn.BatchNorm2d(out_c),\n",
        "                nn.ReLU()\n",
        "            )\n",
        "\n",
        "        # --- Encoder (Contracting Path) ---\n",
        "        self.enc1 = conv_block(in_channels, 64)   # Output: 64 channels\n",
        "        self.pool1 = nn.MaxPool2d(kernel_size=2, stride=2)\n",
        "        self.enc2 = conv_block(64, 128)          # Output: 128 channels\n",
        "        self.pool2 = nn.MaxPool2d(kernel_size=2, stride=2)\n",
        "\n",
        "        # --- Bottleneck ---\n",
        "        self.bottleneck = conv_block(128, 256)   # Output: 256 channels\n",
        "\n",
        "        # --- Decoder (Expanding Path) ---\n",
        "        self.upconv2 = nn.ConvTranspose2d(256, 128, kernel_size=2, stride=2)\n",
        "        self.dec2 = conv_block(256, 128)         # Input: 128 (from upconv) + 128 (from skip2)\n",
        "\n",
        "        self.upconv1 = nn.ConvTranspose2d(128, 64, kernel_size=2, stride=2)\n",
        "        self.dec1 = conv_block(128, 64)          # Input: 64 (from upconv) + 64 (from skip1)\n",
        "\n",
        "        # --- Final Output Layer ---\n",
        "        self.out_conv = nn.Conv2d(64, out_channels, kernel_size=1)\n",
        "\n",
        "        self.sigmoid = nn.Sigmoid()\n",
        "\n",
        "    def forward(self, x):\n",
        "        \"\"\"\n",
        "        Defines the forward pass - how data flows through the network.\n",
        "        \"\"\"\n",
        "        # Encoder\n",
        "        skip1 = self.enc1(x)\n",
        "        p1 = self.pool1(skip1)\n",
        "        skip2 = self.enc2(p1)\n",
        "        p2 = self.pool2(skip2)\n",
        "\n",
        "        # Bottleneck\n",
        "        b = self.bottleneck(p2)\n",
        "\n",
        "        # Decoder with Skip Connections\n",
        "        up2 = self.upconv2(b)\n",
        "        merge2 = torch.cat([up2, skip2], dim=1) # Concatenate along channel dimension\n",
        "        d2 = self.dec2(merge2)\n",
        "\n",
        "        up1 = self.upconv1(d2)\n",
        "        merge1 = torch.cat([up1, skip1], dim=1)\n",
        "        d1 = self.dec1(merge1)\n",
        "\n",
        "        # Final Output\n",
        "        output = self.out_conv(d1)\n",
        "        return self.sigmoid(output)\n",
        "\n",
        "# --- Step 3: Verification ---\n",
        "if __name__ == '__main__':\n",
        "    test_input = torch.randn(4, 5, 256, 256)\n",
        "\n",
        "    model = UNet()\n",
        "\n",
        "    output = model(test_input)\n",
        "\n",
        "    print(\"--- Model Architecture Verification ---\")\n",
        "    print(f\"Input Shape:  {test_input.shape}\")\n",
        "    print(f\"Output Shape: {output.shape}\")\n",
        "\n",
        "    assert test_input.shape[2:] == output.shape[2:], \"Height and Width of output must match input\"\n",
        "    assert output.shape[1] == 1, \"Output channels must be 1\"\n",
        "\n",
        "    print(\"\\nVerification successful! The model architecture is correct.\")"
      ],
      "metadata": {
        "colab": {
          "base_uri": "https://localhost:8080/"
        },
        "id": "30PiWuwlIf6B",
        "outputId": "718dd1d6-9cc8-42d5-f728-668d306ae9ef"
      },
      "execution_count": 1,
      "outputs": [
        {
          "output_type": "stream",
          "name": "stdout",
          "text": [
            "--- Model Architecture Verification ---\n",
            "Input Shape:  torch.Size([4, 5, 256, 256])\n",
            "Output Shape: torch.Size([4, 1, 256, 256])\n",
            "\n",
            "Verification successful! The model architecture is correct.\n"
          ]
        }
      ]
    },
    {
      "cell_type": "code",
      "source": [],
      "metadata": {
        "id": "sgfIX21AJl64"
      },
      "execution_count": null,
      "outputs": []
    }
  ]
}